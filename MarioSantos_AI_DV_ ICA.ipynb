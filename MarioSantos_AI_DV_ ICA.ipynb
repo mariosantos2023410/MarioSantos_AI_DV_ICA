{
 "cells": [
  {
   "cell_type": "markdown",
   "id": "a20d9988",
   "metadata": {},
   "source": [
    "# CCT College Dublin<br>\n",
    "\n",
    "## Assessment Cover Page<br>\n",
    "\n",
    "\n",
    "Module Title: Artificial Intelligence & Data Visualization and Communication\n",
    "\t\n",
    "Assessment Title: Integrated CA\n",
    "\t\n",
    "Lecturer Name: David McQuaid & Sam Weiss\n",
    "\t\n",
    "Student Full Name: Mario Luis Saldanha Santos\n",
    "\t\n",
    "Student Number: 2023410\n",
    "\t\n",
    "Assessment Due Date: 05/01/2024\n",
    "\t\n",
    "Date of Submission: 10/01/2024\n",
    "\n",
    "\n",
    "##### Declaration: \t\n",
    "#### By submitting this assessment, I confirm that I have read the CCT policy on Academic Misconduct and understand the implications of submitting work that is not my own or does not appropriately reference material taken from a third party or other source. I declare it to be my own work and that all material from third parties has been appropriately referenced. I further confirm that this work has not previously been submitted for assessment by myself or someone else in CCT College Dublin or any other higher education institution."
   ]
  },
  {
   "cell_type": "markdown",
   "id": "3383cbb6",
   "metadata": {},
   "source": [
    "### Artificial Intelligence Tasks"
   ]
  },
  {
   "cell_type": "markdown",
   "id": "b7ec07b5",
   "metadata": {},
   "source": [
    "### Scenario 1"
   ]
  },
  {
   "cell_type": "code",
   "execution_count": 18,
   "id": "db2c9015",
   "metadata": {},
   "outputs": [],
   "source": [
    "from itertools import combinations\n",
    "\n",
    "#this is to define the class for the scenario to the csp\n",
    "class Scenario1_CSP:\n",
    "    def __init__(self, variables, domains, positions_required, funds):\n",
    "        self.variables = variables\n",
    "        self.domains = domains\n",
    "        self.positions_required = positions_required\n",
    "        self.funds_available = funds\n",
    "        self.solution = None\n",
    "\n",
    "    def solve(self): # this will solve the problem using backtracking algorithm\n",
    "        assignment = {}\n",
    "        self.solution = self.backtrack(assignment)\n",
    "        return self.solution\n",
    "\n",
    "    def backtrack(self, assignment): # this recursive backtracking will work to find valid solutions\n",
    "        if len(assignment) == self.funds_available:\n",
    "            return assignment\n",
    "\n",
    "        variable = self.select_unassigned_variables(assignment)\n",
    "        for position in self.order_domain_values(variable, assignment):\n",
    "            if self.is_consistent(variable, position, assignment):\n",
    "                assignment[variable] = position\n",
    "                result = self.backtrack(assignment)\n",
    "                if result is not None:\n",
    "                    return result\n",
    "                del assignment[variable]\n",
    "        return None\n"
   ]
  },
  {
   "cell_type": "code",
   "execution_count": null,
   "id": "bd919cfb",
   "metadata": {},
   "outputs": [],
   "source": []
  }
 ],
 "metadata": {
  "kernelspec": {
   "display_name": "Python 3 (ipykernel)",
   "language": "python",
   "name": "python3"
  },
  "language_info": {
   "codemirror_mode": {
    "name": "ipython",
    "version": 3
   },
   "file_extension": ".py",
   "mimetype": "text/x-python",
   "name": "python",
   "nbconvert_exporter": "python",
   "pygments_lexer": "ipython3",
   "version": "3.9.12"
  }
 },
 "nbformat": 4,
 "nbformat_minor": 5
}
