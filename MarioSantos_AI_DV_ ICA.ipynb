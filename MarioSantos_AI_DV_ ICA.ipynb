{
 "cells": [
  {
   "cell_type": "markdown",
   "id": "f133ebf0",
   "metadata": {},
   "source": [
    "# CCT College Dublin<br>\n",
    "\n",
    "## Assessment Cover Page<br>\n",
    "\n",
    "\n",
    "Module Title: Artificial Intelligence & Data Visualization and Communication\n",
    "\t\n",
    "Assessment Title: Integrated CA\n",
    "\t\n",
    "Lecturer Name: David McQuaid & Sam Weiss\n",
    "\t\n",
    "Student Full Name: Mario Luis Saldanha Santos\n",
    "\t\n",
    "Student Number: 2023410\n",
    "\t\n",
    "Assessment Due Date: 05/01/2024\n",
    "\t\n",
    "Date of Submission: 10/01/2024\n",
    "\n",
    "\n",
    "##### Declaration: \t\n",
    "#### By submitting this assessment, I confirm that I have read the CCT policy on Academic Misconduct and understand the implications of submitting work that is not my own or does not appropriately reference material taken from a third party or other source. I declare it to be my own work and that all material from third parties has been appropriately referenced. I further confirm that this work has not previously been submitted for assessment by myself or someone else in CCT College Dublin or any other higher education institution."
   ]
  },
  {
   "cell_type": "markdown",
   "id": "3cac6403",
   "metadata": {},
   "source": [
    "### Artificial Intelligence Tasks"
   ]
  },
  {
   "cell_type": "markdown",
   "id": "0736d93b",
   "metadata": {},
   "source": [
    "### Backtracking Algorithm for Scenario 1"
   ]
  },
  {
   "cell_type": "code",
   "execution_count": 31,
   "id": "940574f2",
   "metadata": {},
   "outputs": [],
   "source": [
    "from itertools import combinations\n",
    "\n",
    "#this is to define the class for the scenario to the csp\n",
    "class Scenario1_CSP:\n",
    "    def __init__(self, variables, domains, positions_required, funds):\n",
    "        self.variables = variables\n",
    "        self.domains = domains\n",
    "        self.positions_required = positions_required\n",
    "        self.funds_available = funds\n",
    "        self.solution = None\n",
    "\n",
    "    def solve(self): # this will solve the problem using backtracking algorithm\n",
    "        assignment = {}\n",
    "        self.solution = self.backtrack(assignment)\n",
    "        return self.solution\n",
    "\n",
    "    def backtrack(self, assignment): # this recursive backtracking will work to find valid solutions\n",
    "        if len(assignment) == self.funds_available:\n",
    "            return assignment\n",
    "\n",
    "        variable = self.select_unassigned_variables(assignment)\n",
    "        for position in self.order_domain_values(variable, assignment):\n",
    "            if self.is_consistent(variable, position, assignment):\n",
    "                assignment[variable] = position\n",
    "                result = self.backtrack(assignment)\n",
    "                if result is not None:\n",
    "                    return result\n",
    "                del assignment[variable]\n",
    "        return None\n",
    "\n",
    "    #this is to select a variable which wasn't assigned yet to the minimum remaining domain size\n",
    "    def select_unassigned_variables(self, assignment):\n",
    "        unassigned_variables = [var for var in self.variables if var not in assignment]\n",
    "        return min(unassigned_variables, key=lambda var: len(self.domains[var]))\n",
    "\n",
    "    def order_domain_values(self, variable, assignment):\n",
    "        return self.domains[variable]\n",
    "\n",
    "    #this will check the assignments to see if they are consistent with the variables\n",
    "    def is_consistent(self, variable, position, assignment):\n",
    "        for assigned_variable, assigned_position in assignment.items():\n",
    "            if assigned_position == position and self.share_roles(variable, assigned_variable):\n",
    "                return False\n",
    "        return True\n",
    "\n",
    "    #this is to check the two variables shared with their domains\n",
    "    def share_roles(self, variable1, variable2):\n",
    "        return set(self.domains[variable1]) & set(self.domains[variable2])\n",
    "\n"
   ]
  },
  {
   "cell_type": "code",
   "execution_count": 204,
   "id": "b025541b",
   "metadata": {},
   "outputs": [
    {
     "name": "stdout",
     "output_type": "stream",
     "text": [
      "Solution 1: {'Peter': 'Python and AI', 'Juan': 'Web and AI', 'Jim': 'AI and Systems'}\n",
      "Solution 2: {'Peter': 'Python and AI', 'Juan': 'Web and AI', 'Jane': 'Python and Database'}\n",
      "Solution 3: {'Peter': 'Python and AI', 'Juan': 'Web and AI', 'Mary': 'Web and Systems'}\n",
      "Solution 4: {'Peter': 'Python and AI', 'Juan': 'Web and AI', 'Bruce': 'Systems and Python'}\n",
      "Solution 5: {'Peter': 'Python and AI', 'Jim': 'AI and Systems', 'Jane': 'Python and Database'}\n",
      "Solution 6: {'Peter': 'Python and AI', 'Jim': 'AI and Systems', 'Mary': 'Web and Systems'}\n",
      "Solution 7: {'Peter': 'Python and AI', 'Jim': 'AI and Systems', 'Bruce': 'Systems and Python'}\n",
      "Solution 8: {'Peter': 'Python and AI', 'Jim': 'AI and Systems', 'Anita': 'Web and AI'}\n",
      "Solution 9: {'Peter': 'Python and AI', 'Jane': 'Python and Database', 'Mary': 'Web and Systems'}\n",
      "Solution 10: {'Peter': 'Python and AI', 'Jane': 'Python and Database', 'Bruce': 'Systems and Python'}\n",
      "Solution 11: {'Peter': 'Python and AI', 'Jane': 'Python and Database', 'Anita': 'Web and AI'}\n",
      "Solution 12: {'Peter': 'Python and AI', 'Mary': 'Web and Systems', 'Bruce': 'Systems and Python'}\n",
      "Solution 13: {'Peter': 'Python and AI', 'Mary': 'Web and Systems', 'Anita': 'Web and AI'}\n",
      "Solution 14: {'Peter': 'Python and AI', 'Bruce': 'Systems and Python', 'Anita': 'Web and AI'}\n",
      "Solution 15: {'Juan': 'Web and AI', 'Jim': 'AI and Systems', 'Jane': 'Python and Database'}\n",
      "Solution 16: {'Juan': 'Web and AI', 'Jim': 'AI and Systems', 'Mary': 'Web and Systems'}\n",
      "Solution 17: {'Juan': 'Web and AI', 'Jim': 'AI and Systems', 'Bruce': 'Systems and Python'}\n",
      "Solution 18: {'Juan': 'Web and AI', 'Jane': 'Python and Database', 'Mary': 'Web and Systems'}\n",
      "Solution 19: {'Juan': 'Web and AI', 'Jane': 'Python and Database', 'Bruce': 'Systems and Python'}\n",
      "Solution 20: {'Juan': 'Web and AI', 'Mary': 'Web and Systems', 'Bruce': 'Systems and Python'}\n",
      "Solution 21: {'Jim': 'AI and Systems', 'Jane': 'Python and Database', 'Mary': 'Web and Systems'}\n",
      "Solution 22: {'Jim': 'AI and Systems', 'Jane': 'Python and Database', 'Bruce': 'Systems and Python'}\n",
      "Solution 23: {'Jim': 'AI and Systems', 'Jane': 'Python and Database', 'Anita': 'Web and AI'}\n",
      "Solution 24: {'Jim': 'AI and Systems', 'Mary': 'Web and Systems', 'Bruce': 'Systems and Python'}\n",
      "Solution 25: {'Jim': 'AI and Systems', 'Mary': 'Web and Systems', 'Anita': 'Web and AI'}\n",
      "Solution 26: {'Jim': 'AI and Systems', 'Bruce': 'Systems and Python', 'Anita': 'Web and AI'}\n",
      "Solution 27: {'Jane': 'Python and Database', 'Mary': 'Web and Systems', 'Bruce': 'Systems and Python'}\n",
      "Solution 28: {'Jane': 'Python and Database', 'Mary': 'Web and Systems', 'Anita': 'Web and AI'}\n",
      "Solution 29: {'Jane': 'Python and Database', 'Bruce': 'Systems and Python', 'Anita': 'Web and AI'}\n",
      "Solution 30: {'Mary': 'Web and Systems', 'Bruce': 'Systems and Python', 'Anita': 'Web and AI'}\n"
     ]
    }
   ],
   "source": [
    "#this shows the definitions of variables, domains, the positions required, and funds \n",
    "# Scenario 1\n",
    "variables_scenario1 = [\"Peter\", \"Juan\", \"Jim\", \"Jane\", \"Mary\", \"Bruce\", \"Anita\"]\n",
    "domains_scenario1 = {\n",
    "    \"Peter\": [\"Python and AI\"],\n",
    "    \"Juan\": [\"Web and AI\"],\n",
    "    \"Jim\": [\"AI and Systems\"],\n",
    "    \"Jane\": [\"Python and Database\"],\n",
    "    \"Mary\": [\"Web and Systems\"],\n",
    "    \"Bruce\": [\"Systems and Python\"],\n",
    "    \"Anita\": [\"Web and AI\"],\n",
    "}\n",
    "positions_required_scenario1 = {\n",
    "    \"Python Programmer\": 2,\n",
    "    \"AI Engineer\": 2,\n",
    "    \"Web Designer\": 1,\n",
    "    \"Database Admin\": 1,\n",
    "    \"Systems Engineer\": 1,\n",
    "}\n",
    "funds_scenario1 = 3\n",
    "\n",
    "# this will find all possible solutions\n",
    "solutions_scenario1 = []\n",
    "for combination in combinations(variables_scenario1, funds_scenario1):\n",
    "    scenario1_csp_instance = Scenario1_CSP(\n",
    "        combination, domains_scenario1, positions_required_scenario1, funds_scenario1\n",
    "    )\n",
    "    solution = scenario1_csp_instance.solve()\n",
    "    if solution is not None:\n",
    "        solutions_scenario1.append(solution)\n",
    "\n",
    "# this prints the solutions\n",
    "for idx, solution in enumerate(solutions_scenario1, start=1):\n",
    "    print(f\"Solution {idx}: {solution}\")\n"
   ]
  },
  {
   "cell_type": "markdown",
   "id": "901de49d",
   "metadata": {},
   "source": [
    "### Backtracking Algorithm for Scenario 2\n"
   ]
  },
  {
   "cell_type": "code",
   "execution_count": 42,
   "id": "aa0fc148",
   "metadata": {},
   "outputs": [
    {
     "name": "stdout",
     "output_type": "stream",
     "text": [
      "Solution 1: {'Peter': 'Python and AI', 'Jane': 'Python and Database', 'Jim': 'AI and Systems', 'Mary': 'Web and Systems'}\n",
      "Solution 2: {'Peter': 'Python and AI', 'Jane': 'Python and Database', 'Jim': 'AI and Systems', 'Bruce': 'Systems and Python'}\n",
      "Solution 3: {'Peter': 'Python and AI', 'Jane': 'Python and Database', 'Jim': 'AI and Systems', 'Anita': 'Web and AI'}\n",
      "Solution 4: {'Peter': 'Python and AI', 'Jane': 'Python and Database', 'Mary': 'Web and Systems', 'Bruce': 'Systems and Python'}\n",
      "Solution 5: {'Peter': 'Python and AI', 'Jane': 'Python and Database', 'Mary': 'Web and Systems', 'Anita': 'Web and AI'}\n",
      "Solution 6: {'Peter': 'Python and AI', 'Jane': 'Python and Database', 'Bruce': 'Systems and Python', 'Anita': 'Web and AI'}\n",
      "Solution 7: {'Peter': 'Python and AI', 'Jim': 'AI and Systems', 'Mary': 'Web and Systems', 'Bruce': 'Systems and Python'}\n",
      "Solution 8: {'Peter': 'Python and AI', 'Jim': 'AI and Systems', 'Mary': 'Web and Systems', 'Anita': 'Web and AI'}\n",
      "Solution 9: {'Peter': 'Python and AI', 'Jim': 'AI and Systems', 'Bruce': 'Systems and Python', 'Anita': 'Web and AI'}\n",
      "Solution 10: {'Peter': 'Python and AI', 'Mary': 'Web and Systems', 'Bruce': 'Systems and Python', 'Anita': 'Web and AI'}\n",
      "Solution 11: {'Jane': 'Python and Database', 'Jim': 'AI and Systems', 'Mary': 'Web and Systems', 'Bruce': 'Systems and Python'}\n",
      "Solution 12: {'Jane': 'Python and Database', 'Jim': 'AI and Systems', 'Mary': 'Web and Systems', 'Anita': 'Web and AI'}\n",
      "Solution 13: {'Jane': 'Python and Database', 'Jim': 'AI and Systems', 'Bruce': 'Systems and Python', 'Anita': 'Web and AI'}\n",
      "Solution 14: {'Jane': 'Python and Database', 'Mary': 'Web and Systems', 'Bruce': 'Systems and Python', 'Anita': 'Web and AI'}\n",
      "Solution 15: {'Jim': 'AI and Systems', 'Mary': 'Web and Systems', 'Bruce': 'Systems and Python', 'Anita': 'Web and AI'}\n"
     ]
    }
   ],
   "source": [
    "# Scenario 2\n",
    "variables_scenario2 = [\"Peter\", \"Jane\", \"Jim\", \"Mary\", \"Bruce\", \"Anita\"]\n",
    "domains_scenario2 = {\n",
    "    #Ciara is hiring\n",
    "    \"Peter\": [\"Python and AI\"],\n",
    "   # \"Juan\": [\"Web and AI\"], #Juan became a partner in business and knows AI which satisfies the constraint\n",
    "    \"Jane\": [\"Python and Database\"],\n",
    "    \"Jim\": [\"AI and Systems\"],\n",
    "    \"Mary\": [\"Web and Systems\"],\n",
    "    \"Bruce\": [\"Systems and Python\"],\n",
    "    \"Anita\": [\"Web and AI\"],\n",
    "}\n",
    "positions_required_scenario2 = {\n",
    "    \"Python Programmer\": 2,\n",
    "    \"AI Engineer\": 3,  # There is an increase in the number of required AI Engineers\n",
    "    \"Web Designer\": 1,\n",
    "    \"Database Admin\": 1,\n",
    "    \"Systems Engineer\": 1,\n",
    "}\n",
    "funds_scenario2 = 4  # this is an increase in the available funds\n",
    "\n",
    "# this will find all the possible solutions\n",
    "solutions_scenario2 = []\n",
    "for combination in combinations(variables_scenario2, funds_scenario2):\n",
    "    scenario2_csp_instance = Scenario1_CSP(\n",
    "        combination, domains_scenario2, positions_required_scenario2, funds_scenario2\n",
    "    )\n",
    "    solution = scenario2_csp_instance.solve()\n",
    "    if solution is not None:\n",
    "        solutions_scenario2.append(solution)\n",
    "\n",
    "# this will print all solutions\n",
    "for idx, solution in enumerate(solutions_scenario2, start=1):\n",
    "    print(f\"Solution {idx}: {solution}\")\n",
    "    "
   ]
  },
  {
   "cell_type": "markdown",
   "id": "2f96e1bc",
   "metadata": {},
   "source": [
    "### CSP Visualisations"
   ]
  },
  {
   "cell_type": "markdown",
   "id": "3eeebc83",
   "metadata": {},
   "source": [
    "#### Result of Valid Solution 1 - Scenario 1"
   ]
  },
  {
   "cell_type": "code",
   "execution_count": 212,
   "id": "b76f1d5f",
   "metadata": {},
   "outputs": [
    {
     "data": {
      "image/png": "[encoded data removed]",
      "text/plain": [
       "<Figure size 864x576 with 1 Axes>"
      ]
     },
     "metadata": {},
     "output_type": "display_data"
    }
   ],
   "source": [
    "import networkx as nx\n",
    "import matplotlib.pyplot as plt\n",
    "\n",
    "# this is the data from the first solution acquired\n",
    "solution = {'Peter': 'Python and AI', 'Juan': 'Web and AI', 'Jim': 'AI and Systems'}\n",
    "\n",
    "# this is to create the graph\n",
    "G = nx.DiGraph()\n",
    "\n",
    "# this will be adding nodes and edges\n",
    "for name, position in solution.items():\n",
    "    G.add_node(name, pos=(1, len(G)))\n",
    "    G.add_node(position, pos=(2, len(G)))\n",
    "    G.add_edge(name, position)\n",
    "\n",
    "# this will be extracting the positions and employees\n",
    "positions = [node for node, data in G.nodes(data=True) if 'pos' in data and data['pos'][0] == 2]\n",
    "names = [node for node, data in G.nodes(data=True) if 'pos' in data and data['pos'][0] == 1]\n",
    "\n",
    "# this will be setting the positions for positions and employees\n",
    "pos = nx.get_node_attributes(G, 'pos')\n",
    "\n",
    "# this will be drawing the graph\n",
    "plt.figure(figsize=(12, 8))\n",
    "nx.draw_networkx_nodes(G, pos, nodelist=names, node_size=700, node_color=\"skyblue\")\n",
    "nx.draw_networkx_nodes(G, pos, nodelist=positions, node_size=700, node_color=\"lightcoral\")\n",
    "nx.draw_networkx_edges(G, pos, width=1.0, alpha=0.5)\n",
    "nx.draw_networkx_labels(G, pos, font_size=10, font_color=\"black\")\n",
    "\n",
    "plt.title('Network Graph - Result of Valid Solution 1 - Scenario 1')\n",
    "plt.show()"
   ]
  }
 ],
 "metadata": {
  "kernelspec": {
   "display_name": "Python 3 (ipykernel)",
   "language": "python",
   "name": "python3"
  },
  "language_info": {
   "codemirror_mode": {
    "name": "ipython",
    "version": 3
   },
   "file_extension": ".py",
   "mimetype": "text/x-python",
   "name": "python",
   "nbconvert_exporter": "python",
   "pygments_lexer": "ipython3",
   "version": "3.9.12"
  }
 },
 "nbformat": 4,
 "nbformat_minor": 5
}
